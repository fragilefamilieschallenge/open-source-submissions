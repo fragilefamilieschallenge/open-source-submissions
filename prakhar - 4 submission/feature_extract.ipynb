{
 "cells": [
  {
   "cell_type": "code",
   "execution_count": 1,
   "metadata": {
    "collapsed": true
   },
   "outputs": [],
   "source": [
    "import numpy as np\n",
    "import pandas as pd\n",
    "import csv\n",
    "import math\n",
    "import matplotlib.pyplot as plt\n",
    "from sklearn.naive_bayes import GaussianNB, MultinomialNB,BernoulliNB\n",
    "from sklearn import metrics, svm\n",
    "from sklearn.svm import SVR\n",
    "from sklearn.metrics import roc_curve, roc_auc_score, mutual_info_score, accuracy_score, mean_squared_error, r2_score, explained_variance_score\n",
    "from sklearn.ensemble import AdaBoostClassifier\n",
    "from sklearn.linear_model import LogisticRegression, Lasso, LassoCV, ElasticNet,ElasticNetCV\n",
    "from sklearn.feature_extraction.text import TfidfTransformer\n",
    "from sklearn.feature_selection import chi2\n",
    "from sklearn.decomposition import PCA\n",
    "from sklearn.preprocessing import StandardScaler, Imputer\n",
    "from sklearn.model_selection import ShuffleSplit\n",
    "from scipy import stats\n",
    "from sklearn.utils import resample\n",
    "\n",
    "%matplotlib inline"
   ]
  },
  {
   "cell_type": "code",
   "execution_count": 2,
   "metadata": {
    "collapsed": true
   },
   "outputs": [],
   "source": [
    "# Function to check that there is a float or integer valued string\n",
    "# Cite the following website: http://pythoncentral.io/how-to-check-if-a-string-is-a-number-in-python-including-unicode/#\n",
    "def is_number(s):\n",
    "   \n",
    "    try:\n",
    "        float(s)\n",
    "        return True\n",
    "    except ValueError:\n",
    "        pass\n",
    "\n",
    "    try:\n",
    "        import unicodedata\n",
    "        unicodedata.numeric(s)\n",
    "        return True\n",
    "    except (TypeError, ValueError):\n",
    "        pass\n",
    "   \n",
    "    return False\n",
    "\n",
    "    if(math.isnan(s)):           # ensure that NA term is regarded as false\n",
    "        return False\n",
    "\n"
   ]
  },
  {
   "cell_type": "code",
   "execution_count": 3,
   "metadata": {
    "collapsed": false
   },
   "outputs": [
    {
     "data": {
      "text/plain": [
       "(4243, 11880)"
      ]
     },
     "execution_count": 3,
     "metadata": {},
     "output_type": "execute_result"
    }
   ],
   "source": [
    "df=pd.read_csv('fragilefamilieschallenge/background_2.csv', sep=',',header=None, dtype = str)  # imputed data of 4242 families\n",
    "background_data = df.values\n",
    "M,N = background_data.shape\n",
    "M,N"
   ]
  },
  {
   "cell_type": "code",
   "execution_count": 4,
   "metadata": {
    "collapsed": true
   },
   "outputs": [],
   "source": [
    "challenge_ID = (background_data[1:,N-1])           # challenge ID in the background file (do not consider 'idnum')\n",
    "background_features = background_data[1:,2:N-1]    # Holds the features given in the background.csv file\n",
    "                                                    # Exclude the 'momID' column entry in the feature set.\n",
    "    \n",
    "feature_names= background_data[0,:]    "
   ]
  },
  {
   "cell_type": "code",
   "execution_count": 5,
   "metadata": {
    "collapsed": true
   },
   "outputs": [],
   "source": [
    "#Impute the 'NA' entries with a -1000.0\n",
    "\n",
    "for i in range(M-1):\n",
    "    for j in range(N-3):\n",
    "        if(is_number(background_features[i,j])==False or math.isnan(float(background_features[i,j]))==True):     # Ensure that all values labelled as \"other\" are replaced by a 1.0\n",
    "            background_features[i,j]=-1000.0\n",
    "        else:\n",
    "            background_features[i,j]=float(background_features[i,j])\n",
    "            #print(background_features[i,j])\n",
    "                \n",
    "background_features=background_features.astype(np.float)  # ensure that each entry is float data type\n",
    "            \n"
   ]
  },
  {
   "cell_type": "code",
   "execution_count": 6,
   "metadata": {
    "collapsed": true
   },
   "outputs": [],
   "source": [
    "# Actual imputation of NA with the average of the column\n",
    "\n",
    "imp= Imputer(missing_values=-1000,strategy='mean', axis=0)\n",
    "background_features=imp.fit_transform(background_features)"
   ]
  },
  {
   "cell_type": "code",
   "execution_count": 7,
   "metadata": {
    "collapsed": true
   },
   "outputs": [],
   "source": [
    "train_data = np.genfromtxt('fragilefamilieschallenge/train.csv', delimiter = ',')\n",
    "P,Q = train_data.shape\n",
    "train_ID = train_data[1:,0]                        # Challenge ID of the family in training set\n",
    "train_outcome = train_data[1:,1:]                  # The 6 outcomes at age 15\n",
    "                                                   # Need to impute the training outcome for the 6 outcomes as\n",
    "                                                   # some values are missing\n",
    "\n",
    "x = train_outcome[:,0]\n",
    "Z=np.count_nonzero(~np.isnan(x))   # no. of valid entries for the outcome 'GPA'"
   ]
  },
  {
   "cell_type": "code",
   "execution_count": 8,
   "metadata": {
    "collapsed": true
   },
   "outputs": [],
   "source": [
    "size = background_features.shape[1]\n",
    "\n",
    "train_feature = np.zeros((P-1,size))                # stores the features for the total training data for GPA\n",
    "test_feature = np.zeros((P-1,size))                 # stores the features for the 2121 test data points\n",
    "                                                   # same size as train_feature\n",
    "gpa_train = np.zeros((Z,))        # stores the training GPA data for valid entries\n",
    "\n",
    "miss_feature = np.zeros((P-1-Z,size))    # missing entries' features for GPA\n",
    "avail_feature = np.zeros((Z,size))   # valid entries' features for GPA"
   ]
  },
  {
   "cell_type": "code",
   "execution_count": 10,
   "metadata": {
    "collapsed": false
   },
   "outputs": [
    {
     "name": "stdout",
     "output_type": "stream",
     "text": [
      "done\n"
     ]
    }
   ],
   "source": [
    "k = 0\n",
    "t = 0\n",
    "\n",
    "for i in range(P-1):\n",
    "    for j in range(M-1):\n",
    "        if(float(challenge_ID[j]) == train_ID[i]):        # match the train_ID with the ID in background.csv file to get the corresponding features\n",
    "            train_feature[i,:] = (background_features[j,:])\n",
    "            if(math.isnan(train_outcome[i,0])==False):    # check for the valid entries with numerical GPA values\n",
    "                gpa_train[k]= train_outcome[i,0]\n",
    "                avail_feature[k,:]= background_features[j,:]\n",
    "                k = k +1\n",
    "            else:\n",
    "                miss_feature[t,:]= background_features[j,:] \n",
    "                t= t +1\n",
    "                \n",
    "                    \n",
    "        #else:\n",
    "        #    test_feature[i,:] = (background_features[j,:])\n",
    "\n",
    "print('done')"
   ]
  },
  {
   "cell_type": "code",
   "execution_count": 11,
   "metadata": {
    "collapsed": true
   },
   "outputs": [],
   "source": [
    "clf = LassoCV(eps=1e-3, n_alphas=100,cv=5, max_iter=4000)\n",
    "clf.fit(avail_feature, gpa_train)\n",
    "pred = clf.predict(avail_feature)\n",
    "err = mean_squared_error(gpa_train,pred)"
   ]
  },
  {
   "cell_type": "code",
   "execution_count": 13,
   "metadata": {
    "collapsed": true
   },
   "outputs": [],
   "source": [
    "pred_miss = clf.predict(miss_feature)"
   ]
  },
  {
   "cell_type": "code",
   "execution_count": 14,
   "metadata": {
    "collapsed": true
   },
   "outputs": [],
   "source": [
    "l = 0\n",
    "train_outcome_new = train_outcome[:,0]  # the completed training label for GPA\n",
    "for i in range(P-1):\n",
    "    if(math.isnan(train_outcome[i,0])==True):\n",
    "        train_outcome_new[i] = pred_miss[l]\n",
    "        l = l+1"
   ]
  },
  {
   "cell_type": "code",
   "execution_count": 15,
   "metadata": {
    "collapsed": false
   },
   "outputs": [
    {
     "name": "stdout",
     "output_type": "stream",
     "text": [
      "0.216687544034\n"
     ]
    }
   ],
   "source": [
    "clf.fit(train_feature, train_outcome_new)\n",
    "pred_new = clf.predict(train_feature)\n",
    "err_new = mean_squared_error(train_outcome_new,pred_new)\n",
    "\n",
    "print(err_new)"
   ]
  },
  {
   "cell_type": "code",
   "execution_count": 17,
   "metadata": {
    "collapsed": false
   },
   "outputs": [],
   "source": [
    "n_comp = 10\n",
    "ids = clf.coef_.argsort()[::-1][:n_comp]"
   ]
  },
  {
   "cell_type": "code",
   "execution_count": 18,
   "metadata": {
    "collapsed": false
   },
   "outputs": [
    {
     "data": {
      "text/plain": [
       "array(['m2l11', 'f5i4', 'm3l6a', 'm4l6a', 'cm5twoc', 'm2g13',\n",
       "       'cf5md_case_con', 'cf5twoc', 'm3i0l', 'm5e3a'], dtype=object)"
      ]
     },
     "execution_count": 18,
     "metadata": {},
     "output_type": "execute_result"
    }
   ],
   "source": [
    "feature_names[ids]"
   ]
  }
 ],
 "metadata": {
  "kernelspec": {
   "display_name": "Python 3",
   "language": "python",
   "name": "python3"
  },
  "language_info": {
   "codemirror_mode": {
    "name": "ipython",
    "version": 3
   },
   "file_extension": ".py",
   "mimetype": "text/x-python",
   "name": "python",
   "nbconvert_exporter": "python",
   "pygments_lexer": "ipython3",
   "version": "3.5.2"
  }
 },
 "nbformat": 4,
 "nbformat_minor": 2
}
