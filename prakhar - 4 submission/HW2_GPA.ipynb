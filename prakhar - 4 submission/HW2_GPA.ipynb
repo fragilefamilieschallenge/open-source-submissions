{
 "cells": [
  {
   "cell_type": "code",
   "execution_count": 288,
   "metadata": {
    "collapsed": false,
    "deletable": true,
    "editable": true
   },
   "outputs": [],
   "source": [
    "import numpy as np\n",
    "import pandas as pd\n",
    "import csv\n",
    "import math\n",
    "import matplotlib.pyplot as plt\n",
    "from sklearn.naive_bayes import GaussianNB, MultinomialNB,BernoulliNB\n",
    "from sklearn import metrics, svm\n",
    "from sklearn.svm import SVR\n",
    "from sklearn.metrics import roc_curve, roc_auc_score, mutual_info_score, accuracy_score, mean_squared_error, r2_score, explained_variance_score\n",
    "from sklearn.ensemble import AdaBoostClassifier\n",
    "from sklearn.linear_model import LogisticRegression, Lasso, LassoCV, ElasticNet,ElasticNetCV\n",
    "from sklearn.feature_extraction.text import TfidfTransformer\n",
    "from sklearn.feature_selection import chi2\n",
    "from sklearn.decomposition import PCA\n",
    "from sklearn.preprocessing import StandardScaler, Imputer\n",
    "from sklearn.model_selection import ShuffleSplit\n",
    "from scipy import stats\n",
    "from sklearn.utils import resample\n",
    "\n",
    "%matplotlib inline"
   ]
  },
  {
   "cell_type": "code",
   "execution_count": 256,
   "metadata": {
    "collapsed": false,
    "deletable": true,
    "editable": true
   },
   "outputs": [
    {
     "name": "stdout",
     "output_type": "stream",
     "text": [
      "False\n"
     ]
    }
   ],
   "source": [
    "# Function to check that there is a float or integer valued string\n",
    "# Cite the following website: http://pythoncentral.io/how-to-check-if-a-string-is-a-number-in-python-including-unicode/#\n",
    "def is_number(s):\n",
    "   \n",
    "    try:\n",
    "        float(s)\n",
    "        return True\n",
    "    except ValueError:\n",
    "        pass\n",
    "\n",
    "    try:\n",
    "        import unicodedata\n",
    "        unicodedata.numeric(s)\n",
    "        return True\n",
    "    except (TypeError, ValueError):\n",
    "        pass\n",
    "   \n",
    "    return False\n",
    "\n",
    "    if(math.isnan(s)):           # ensure that NA term is regarded as false\n",
    "        return False\n",
    "\n",
    "\n",
    "\n",
    "print(is_number('hispanic'))    # just a sanity check"
   ]
  },
  {
   "cell_type": "code",
   "execution_count": 257,
   "metadata": {
    "collapsed": false,
    "deletable": true,
    "editable": true
   },
   "outputs": [
    {
     "data": {
      "text/plain": [
       "(4243, 11880)"
      ]
     },
     "execution_count": 257,
     "metadata": {},
     "output_type": "execute_result"
    }
   ],
   "source": [
    "df=pd.read_csv('fragilefamilieschallenge/background_2.csv', sep=',',header=None, dtype = str)  # imputed data of 4242 families\n",
    "background_data = df.values\n",
    "M,N = background_data.shape\n",
    "M,N"
   ]
  },
  {
   "cell_type": "code",
   "execution_count": 258,
   "metadata": {
    "collapsed": false,
    "deletable": true,
    "editable": true
   },
   "outputs": [],
   "source": [
    "challenge_ID = (background_data[1:,N-1])           # challenge ID in the background file (do not consider 'idnum')\n",
    "background_features = background_data[1:,2:N-1]    # Holds the features given in the background.csv file\n",
    "                                                   # Exclude the 'momID' column entry in the feature set."
   ]
  },
  {
   "cell_type": "code",
   "execution_count": 259,
   "metadata": {
    "collapsed": false,
    "deletable": true,
    "editable": true
   },
   "outputs": [],
   "source": [
    "#Impute the 'NA' entries with a -1000.0\n",
    "\n",
    "for i in range(M-1):\n",
    "    for j in range(N-3):\n",
    "        if(is_number(background_features[i,j])==False or math.isnan(float(background_features[i,j]))==True):     # Ensure that all values labelled as \"other\" are replaced by a 1.0\n",
    "            background_features[i,j]=-1000.0\n",
    "        else:\n",
    "            background_features[i,j]=float(background_features[i,j])\n",
    "            #print(background_features[i,j])\n",
    "                \n",
    "background_features=background_features.astype(np.float)  # ensure that each entry is float data type\n",
    "            \n"
   ]
  },
  {
   "cell_type": "code",
   "execution_count": 260,
   "metadata": {
    "collapsed": true
   },
   "outputs": [],
   "source": [
    "# Actual imputation of NA with the average of the column\n",
    "\n",
    "imp= Imputer(missing_values=-1000,strategy='mean', axis=0)\n",
    "background_features=imp.fit_transform(background_features)"
   ]
  },
  {
   "cell_type": "code",
   "execution_count": 261,
   "metadata": {
    "collapsed": true,
    "deletable": true,
    "editable": true
   },
   "outputs": [],
   "source": [
    "train_data = np.genfromtxt('fragilefamilieschallenge/train.csv', delimiter = ',')\n",
    "P,Q = train_data.shape\n",
    "train_ID = train_data[1:,0]                        # Challenge ID of the family in training set\n",
    "train_outcome = train_data[1:,1:]                  # The 6 outcomes at age 15\n",
    "                                                   # Need to impute the training outcome for the 6 outcomes as\n",
    "                                                   # some values are missing\n",
    "\n",
    "x = train_outcome[:,0]\n",
    "Z=np.count_nonzero(~np.isnan(x))   # no. of valid entries for the outcome 'GPA'"
   ]
  },
  {
   "cell_type": "code",
   "execution_count": 262,
   "metadata": {
    "collapsed": false,
    "deletable": true,
    "editable": true
   },
   "outputs": [],
   "source": [
    "# training for GPA:\n",
    "\n",
    "pca = PCA(n_components=1000,svd_solver='auto')                   # first do dimensionality reduction\n",
    "                                                                 # Also stndardize the data before PCA\n",
    "background_features_pca = pca.fit_transform(StandardScaler().fit_transform(background_features)) \n",
    "size = background_features_pca.shape[1]\n",
    "\n",
    "train_feature = np.zeros((P-1,size))                # stores the features for the total training data for GPA\n",
    "test_feature = np.zeros((P-1,size))                 # stores the features for the 2121 test data points\n",
    "                                                   # same size as train_feature\n",
    "gpa_train = np.zeros((Z,))        # stores the training GPA data for valid entries\n",
    "\n",
    "miss_feature = np.zeros((P-1-Z,size))    # missing entries' features for GPA\n",
    "avail_feature = np.zeros((Z,size))   # valid entries' features for GPA"
   ]
  },
  {
   "cell_type": "code",
   "execution_count": 263,
   "metadata": {
    "collapsed": false,
    "deletable": true,
    "editable": true
   },
   "outputs": [
    {
     "name": "stdout",
     "output_type": "stream",
     "text": [
      "done\n"
     ]
    }
   ],
   "source": [
    "k = 0\n",
    "t = 0\n",
    "\n",
    "for i in range(P-1):\n",
    "    for j in range(M-1):\n",
    "        if(float(challenge_ID[j]) == train_ID[i]):        # match the train_ID with the ID in background.csv file to get the corresponding features\n",
    "            train_feature[i,:] = (background_features_pca[j,:])\n",
    "            if(math.isnan(train_outcome[i,0])==False):    # check for the valid entries with numerical GPA values\n",
    "                gpa_train[k]= train_outcome[i,0]\n",
    "                avail_feature[k,:]= background_features_pca[j,:]\n",
    "                k = k +1\n",
    "            else:\n",
    "                miss_feature[t,:]= background_features_pca[j,:] \n",
    "                t= t +1\n",
    "                \n",
    "                    \n",
    "        #else:\n",
    "        #    test_feature[i,:] = (background_features[j,:])\n",
    "\n",
    "print('done')"
   ]
  },
  {
   "cell_type": "code",
   "execution_count": 264,
   "metadata": {
    "collapsed": false,
    "deletable": true,
    "editable": true
   },
   "outputs": [],
   "source": [
    "#pca = PCA(n_components=5000,svd_solver='auto')\n",
    "#avail_feature_pca = pca.fit_transform(avail_feature)\n",
    "\n",
    "clf = LassoCV(eps=1e-3, n_alphas=100,cv=5, max_iter=4000)\n",
    "clf.fit(avail_feature, gpa_train)\n",
    "pred = clf.predict(avail_feature)\n",
    "err = mean_squared_error(gpa_train,pred)"
   ]
  },
  {
   "cell_type": "code",
   "execution_count": 265,
   "metadata": {
    "collapsed": false,
    "deletable": true,
    "editable": true
   },
   "outputs": [
    {
     "name": "stdout",
     "output_type": "stream",
     "text": [
      "(1165,)\n",
      "0.347549914336\n",
      "(1165, 1000)\n",
      "(1000,)\n"
     ]
    }
   ],
   "source": [
    "print(np.unique(pred).shape)\n",
    "print((err))\n",
    "print(avail_feature.shape)\n",
    "print(clf.coef_.shape)"
   ]
  },
  {
   "cell_type": "code",
   "execution_count": 266,
   "metadata": {
    "collapsed": false,
    "deletable": true,
    "editable": true
   },
   "outputs": [],
   "source": [
    "\n",
    "#miss_feature_pca = pca.fit_transform(miss_feature)\n",
    "pred_miss = clf.predict(miss_feature)\n"
   ]
  },
  {
   "cell_type": "code",
   "execution_count": 285,
   "metadata": {
    "collapsed": false,
    "deletable": true,
    "editable": true,
    "scrolled": true
   },
   "outputs": [
    {
     "name": "stdout",
     "output_type": "stream",
     "text": [
      "(70,)\n"
     ]
    },
    {
     "data": {
      "image/png": "[encoded data removed]",
      "text/plain": [
       "<matplotlib.figure.Figure at 0x13ece72e8>"
      ]
     },
     "metadata": {},
     "output_type": "display_data"
    }
   ],
   "source": [
    "#print(np.unique(pred_miss).shape)\n",
    "plt.plot(np.log10(pca.explained_variance_ratio_))  # plot of log variance for the 4242 features\n",
    "plt.xlabel('Number of components')\n",
    "plt.ylabel(r'$\\log(Var)$')\n",
    "plt.grid()\n",
    "print(np.unique(clf.fit(avail_feature, gpa_train).coef_).shape)                  \n",
    "\n",
    "var1=np.cumsum(np.round(pca.explained_variance_ratio_,decimals=4)*100)\n",
    "#plt.plot(var1)"
   ]
  },
  {
   "cell_type": "markdown",
   "metadata": {
    "deletable": true,
    "editable": true
   },
   "source": [
    "Here, we can see the no. of coefficients selected by the Lasso CV and also how the variance is distributed among the variance components of the PCA analysis which was used to select the appropriate value of n_components...."
   ]
  },
  {
   "cell_type": "code",
   "execution_count": 267,
   "metadata": {
    "collapsed": false,
    "deletable": true,
    "editable": true
   },
   "outputs": [],
   "source": [
    "l = 0\n",
    "train_outcome_new = train_outcome[:,0]  # the completed training label for GPA\n",
    "for i in range(P-1):\n",
    "    if(math.isnan(train_outcome[i,0])==True):\n",
    "        train_outcome_new[i] = pred_miss[l]\n",
    "        l = l+1\n",
    "        "
   ]
  },
  {
   "cell_type": "code",
   "execution_count": 268,
   "metadata": {
    "collapsed": false,
    "deletable": true,
    "editable": true
   },
   "outputs": [
    {
     "name": "stdout",
     "output_type": "stream",
     "text": [
      "0.18426703718\n"
     ]
    }
   ],
   "source": [
    "clf.fit(train_feature, train_outcome_new)\n",
    "pred_new = clf.predict(train_feature)\n",
    "err_new = mean_squared_error(train_outcome_new,pred_new)\n",
    "\n",
    "print(err_new)"
   ]
  },
  {
   "cell_type": "code",
   "execution_count": 278,
   "metadata": {
    "collapsed": false,
    "deletable": true,
    "editable": true
   },
   "outputs": [
    {
     "name": "stdout",
     "output_type": "stream",
     "text": [
      "0.18502354727\n"
     ]
    }
   ],
   "source": [
    "# Elastic Net regression:\n",
    "\n",
    "#elas = ElasticNet(l1_ratio=0.001)\n",
    "elas = ElasticNetCV(l1_ratio=0.001,eps=0.001, n_alphas=1000)\n",
    "elas.fit(train_feature, train_outcome_new)\n",
    "pred_elas = elas.predict(train_feature)\n",
    "err_elas = mean_squared_error(train_outcome_new,pred_elas)\n",
    "print(err_elas)"
   ]
  },
  {
   "cell_type": "code",
   "execution_count": 281,
   "metadata": {
    "collapsed": false
   },
   "outputs": [
    {
     "data": {
      "text/plain": [
       "0.014034955235394962"
      ]
     },
     "execution_count": 281,
     "metadata": {},
     "output_type": "execute_result"
    }
   ],
   "source": [
    "# Support Vector Regression:\n",
    "\n",
    "svr = SVR()\n",
    "svr.fit(train_feature, train_outcome_new)\n",
    "pred_svr = svr.predict(train_feature)\n",
    "mean_squared_error(train_outcome_new,pred_svr)"
   ]
  },
  {
   "cell_type": "code",
   "execution_count": 292,
   "metadata": {
    "collapsed": false,
    "deletable": true,
    "editable": true
   },
   "outputs": [
    {
     "ename": "ValueError",
     "evalue": "coef_ is only available when using a linear kernel",
     "output_type": "error",
     "traceback": [
      "\u001b[0;31m---------------------------------------------------------------------------\u001b[0m",
      "\u001b[0;31mValueError\u001b[0m                                Traceback (most recent call last)",
      "\u001b[0;32m<ipython-input-292-dbc4878b82f4>\u001b[0m in \u001b[0;36m<module>\u001b[0;34m()\u001b[0m\n\u001b[1;32m      7\u001b[0m \u001b[0mexplained_variance_score\u001b[0m\u001b[0;34m(\u001b[0m\u001b[0mtrain_outcome_new\u001b[0m\u001b[0;34m,\u001b[0m\u001b[0mpred_svr\u001b[0m\u001b[0;34m)\u001b[0m\u001b[0;34m\u001b[0m\u001b[0m\n\u001b[1;32m      8\u001b[0m \u001b[0mexplained_variance_score\u001b[0m\u001b[0;34m(\u001b[0m\u001b[0mtrain_outcome_new\u001b[0m\u001b[0;34m,\u001b[0m \u001b[0mpred_new\u001b[0m\u001b[0;34m)\u001b[0m\u001b[0;34m\u001b[0m\u001b[0m\n\u001b[0;32m----> 9\u001b[0;31m \u001b[0msvr\u001b[0m\u001b[0;34m.\u001b[0m\u001b[0mcoef_\u001b[0m\u001b[0;34m.\u001b[0m\u001b[0mshape\u001b[0m\u001b[0;34m\u001b[0m\u001b[0m\n\u001b[0m",
      "\u001b[0;32m//anaconda/lib/python3.5/site-packages/sklearn/svm/base.py\u001b[0m in \u001b[0;36mcoef_\u001b[0;34m(self)\u001b[0m\n\u001b[1;32m    483\u001b[0m     \u001b[0;32mdef\u001b[0m \u001b[0mcoef_\u001b[0m\u001b[0;34m(\u001b[0m\u001b[0mself\u001b[0m\u001b[0;34m)\u001b[0m\u001b[0;34m:\u001b[0m\u001b[0;34m\u001b[0m\u001b[0m\n\u001b[1;32m    484\u001b[0m         \u001b[0;32mif\u001b[0m \u001b[0mself\u001b[0m\u001b[0;34m.\u001b[0m\u001b[0mkernel\u001b[0m \u001b[0;34m!=\u001b[0m \u001b[0;34m'linear'\u001b[0m\u001b[0;34m:\u001b[0m\u001b[0;34m\u001b[0m\u001b[0m\n\u001b[0;32m--> 485\u001b[0;31m             raise ValueError('coef_ is only available when using a '\n\u001b[0m\u001b[1;32m    486\u001b[0m                              'linear kernel')\n\u001b[1;32m    487\u001b[0m \u001b[0;34m\u001b[0m\u001b[0m\n",
      "\u001b[0;31mValueError\u001b[0m: coef_ is only available when using a linear kernel"
     ]
    }
   ],
   "source": [
    "# R^2 calculation:\n",
    "\n",
    "r2_score(train_outcome_new,pred_elas)\n",
    "r2_score(train_outcome_new,pred_svr)\n",
    "r2_score(train_outcome_new,pred_new)\n",
    "explained_variance_score(train_outcome_new,pred_elas)\n",
    "explained_variance_score(train_outcome_new,pred_svr)\n",
    "explained_variance_score(train_outcome_new, pred_new)\n"
   ]
  },
  {
   "cell_type": "code",
   "execution_count": 191,
   "metadata": {
    "collapsed": false,
    "deletable": true,
    "editable": true
   },
   "outputs": [],
   "source": [
    "# bootstrapping\n",
    "data = np.concatenate((train_feature,train_outcome_new[:,np.newaxis]),axis=1)\n",
    "rs = ShuffleSplit(n_splits=100,test_size=0.1) \n",
    "\n",
    "indices= r.split(train_feature, train_outcome_new)\n",
    "elas_boot = ElasticNet(l1_ratio=0.001)\n",
    "\n",
    "err_elas_boot = np.zeros((100,1))  # same size as no. of splits\n",
    "i=0\n",
    "\n",
    "for train_index, test_index in rs.split(data):\n",
    "    #print(\"TRAIN:\", train_index.shape, \"TEST:\", test_index.shape)\n",
    "    #boot_train_data = resample(data[train_index])\n",
    "    #boot_train_outcome = boot_train_data[:,-1:]\n",
    "    #boot_train_feature = boot_train_data[:,:-1]\n",
    "    \n",
    "    #boot_test_data = resample(data[test_index])\n",
    "    #boot_test_outcome = boot_test_data[:,-1:]\n",
    "    #boot_test_feature = boot_test_data[:,:-1]\n",
    "    #elas_boot.fit(boot_train_feature, boot_train_outcome)\n",
    "    #err_elas_boot[i] = mean_squared_error(boot_test_outcome,elas_boot.predict(boot_test_feature))\n",
    "    #i = i+1\n",
    "    elas_boot.fit(train_feature[train_index], train_outcome_new[train_index])\n",
    "    err_elas_boot[i] = mean_squared_error(train_outcome_new[test_index],elas_boot.predict(train_feature[test_index]))\n",
    "    i =i +1              "
   ]
  },
  {
   "cell_type": "code",
   "execution_count": 192,
   "metadata": {
    "collapsed": false,
    "deletable": true,
    "editable": true
   },
   "outputs": [
    {
     "data": {
      "text/plain": [
       "<matplotlib.text.Text at 0x23786df60>"
      ]
     },
     "execution_count": 192,
     "metadata": {},
     "output_type": "execute_result"
    },
    {
     "data": {
      "image/png": "[encoded data removed]",
      "text/plain": [
       "<matplotlib.figure.Figure at 0x2342aa0f0>"
      ]
     },
     "metadata": {},
     "output_type": "display_data"
    }
   ],
   "source": [
    "numbins =100\n",
    "#plt.hist(err_elas_boot,bins=numbins,ec='k')\n",
    "#plt.show()\n",
    "\n",
    "width = 1.0/numbins\n",
    "hist, bins = np.histogram(err_elas_boot,bins=numbins)\n",
    "pdf = hist.astype(float)/hist.sum()\n",
    "\n",
    "plt.figure()\n",
    "plt.bar(bins[0:numbins],pdf,width)\n",
    "plt.xlabel('Mean squared error')\n",
    "plt.ylabel('Probability')"
   ]
  },
  {
   "cell_type": "code",
   "execution_count": 193,
   "metadata": {
    "collapsed": false
   },
   "outputs": [
    {
     "data": {
      "text/plain": [
       "(Mean(statistic=0.24483253951281547, minmax=(0.23893086900102262, 0.25073421002460833)),\n",
       " Variance(statistic=0.00090289046748055941, minmax=(0.00068197336196456119, 0.0011938261421077065)),\n",
       " Std_dev(statistic=0.029970793272213147, minmax=(0.026114619697873473, 0.034551789275053563)))"
      ]
     },
     "execution_count": 193,
     "metadata": {},
     "output_type": "execute_result"
    }
   ],
   "source": [
    "stats.bayes_mvs(err_elas_boot, alpha=0.95)"
   ]
  },
  {
   "cell_type": "code",
   "execution_count": 102,
   "metadata": {
    "collapsed": false
   },
   "outputs": [
    {
     "data": {
      "text/plain": [
       "0.80713954566527446"
      ]
     },
     "execution_count": 102,
     "metadata": {},
     "output_type": "execute_result"
    }
   ],
   "source": [
    "np.var(StandardScaler().fit_transform(background_features))"
   ]
  },
  {
   "cell_type": "code",
   "execution_count": 300,
   "metadata": {
    "collapsed": false
   },
   "outputs": [],
   "source": [
    "l = 0\n",
    "test_ID = np.zeros((P-1,1))\n",
    "for i in range(M-1):\n",
    "    check = 0 \n",
    "    for j in range(P-1):\n",
    "        if(float(challenge_ID[i]) != train_ID[j]):        # match the train_ID with the ID in background.csv file to get the corresponding features\n",
    "            check = check +1\n",
    "    if(check == P-1):        \n",
    "        test_feature[l,:] = (background_features_pca[i,:])\n",
    "        test_ID[l,:] = challenge_ID[i]\n",
    "        l=l+1\n",
    "            "
   ]
  },
  {
   "cell_type": "code",
   "execution_count": 298,
   "metadata": {
    "collapsed": false
   },
   "outputs": [
    {
     "data": {
      "text/plain": [
       "(2119,)"
      ]
     },
     "execution_count": 298,
     "metadata": {},
     "output_type": "execute_result"
    }
   ],
   "source": [
    "final_pred = svr.predict(test_feature)\n",
    "np.unique(final_pred).shape"
   ]
  },
  {
   "cell_type": "code",
   "execution_count": 299,
   "metadata": {
    "collapsed": true
   },
   "outputs": [],
   "source": [
    "np.savetxt(\"foo.csv\", final_pred, delimiter=\",\")"
   ]
  },
  {
   "cell_type": "code",
   "execution_count": 307,
   "metadata": {
    "collapsed": false
   },
   "outputs": [],
   "source": [
    "Z = np.concatenate((train_ID[:,np.newaxis],pred_svr[:,np.newaxis]),axis=1)\n",
    "T = np.concatenate((test_ID,pred_svr[:,np.newaxis]),axis=1)\n",
    "\n",
    "F = np.concatenate((Z,T),axis=0)\n",
    "\n",
    "np.savetxt(\"foo.csv\", F, delimiter=\",\")"
   ]
  },
  {
   "cell_type": "code",
   "execution_count": 318,
   "metadata": {
    "collapsed": false
   },
   "outputs": [
    {
     "data": {
      "text/plain": [
       "(94,)"
      ]
     },
     "execution_count": 318,
     "metadata": {},
     "output_type": "execute_result"
    }
   ],
   "source": [
    "np.unique(clf.coef_).shape\n"
   ]
  },
  {
   "cell_type": "code",
   "execution_count": null,
   "metadata": {
    "collapsed": true
   },
   "outputs": [],
   "source": []
  }
 ],
 "metadata": {
  "kernelspec": {
   "display_name": "Python 3",
   "language": "python",
   "name": "python3"
  },
  "language_info": {
   "codemirror_mode": {
    "name": "ipython",
    "version": 3
   },
   "file_extension": ".py",
   "mimetype": "text/x-python",
   "name": "python",
   "nbconvert_exporter": "python",
   "pygments_lexer": "ipython3",
   "version": "3.5.2"
  }
 },
 "nbformat": 4,
 "nbformat_minor": 2
}
